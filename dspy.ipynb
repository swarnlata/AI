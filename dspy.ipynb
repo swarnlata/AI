{
 "cells": [
  {
   "cell_type": "code",
   "execution_count": null,
   "id": "450e335a-9ed4-458c-b7fc-1237d7d77dc5",
   "metadata": {},
   "outputs": [],
   "source": [
    "#pip uninstall dspy\n"
   ]
  },
  {
   "cell_type": "code",
   "execution_count": null,
   "id": "8d30418a-d80c-4f54-98dd-4f93aa855c44",
   "metadata": {},
   "outputs": [],
   "source": [
    "#pip install -U dspy"
   ]
  },
  {
   "cell_type": "code",
   "execution_count": 16,
   "id": "34aff7cd-97b6-43d1-845f-ab2b0e1f3e67",
   "metadata": {},
   "outputs": [
    {
     "name": "stdout",
     "output_type": "stream",
     "text": [
      "Requirement already satisfied: dspy-ai in c:\\users\\swarnlata\\anaconda3\\lib\\site-packages (2.6.16)\n",
      "Requirement already satisfied: dspy>=2.6.5 in c:\\users\\swarnlata\\anaconda3\\lib\\site-packages (from dspy-ai) (2.6.16)\n",
      "Requirement already satisfied: backoff>=2.2 in c:\\users\\swarnlata\\anaconda3\\lib\\site-packages (from dspy>=2.6.5->dspy-ai) (2.2.1)\n",
      "Requirement already satisfied: joblib~=1.3 in c:\\users\\swarnlata\\anaconda3\\lib\\site-packages (from dspy>=2.6.5->dspy-ai) (1.4.2)\n",
      "Requirement already satisfied: openai<=1.61.0,>=0.28.1 in c:\\users\\swarnlata\\anaconda3\\lib\\site-packages (from dspy>=2.6.5->dspy-ai) (1.61.0)\n",
      "Requirement already satisfied: pandas>=2.1.1 in c:\\users\\swarnlata\\anaconda3\\lib\\site-packages (from dspy>=2.6.5->dspy-ai) (2.1.4)\n",
      "Requirement already satisfied: regex>=2023.10.3 in c:\\users\\swarnlata\\anaconda3\\lib\\site-packages (from dspy>=2.6.5->dspy-ai) (2023.10.3)\n",
      "Requirement already satisfied: ujson>=5.8.0 in c:\\users\\swarnlata\\anaconda3\\lib\\site-packages (from dspy>=2.6.5->dspy-ai) (5.10.0)\n",
      "Requirement already satisfied: tqdm>=4.66.1 in c:\\users\\swarnlata\\anaconda3\\lib\\site-packages (from dspy>=2.6.5->dspy-ai) (4.67.1)\n",
      "Requirement already satisfied: datasets>=2.14.6 in c:\\users\\swarnlata\\anaconda3\\lib\\site-packages (from dspy>=2.6.5->dspy-ai) (3.5.0)\n",
      "Requirement already satisfied: requests>=2.31.0 in c:\\users\\swarnlata\\anaconda3\\lib\\site-packages (from dspy>=2.6.5->dspy-ai) (2.32.3)\n",
      "Requirement already satisfied: optuna>=3.4.0 in c:\\users\\swarnlata\\anaconda3\\lib\\site-packages (from dspy>=2.6.5->dspy-ai) (4.2.1)\n",
      "Requirement already satisfied: pydantic>=2.0 in c:\\users\\swarnlata\\anaconda3\\lib\\site-packages (from dspy>=2.6.5->dspy-ai) (2.11.2)\n",
      "Requirement already satisfied: magicattr>=0.1.6 in c:\\users\\swarnlata\\anaconda3\\lib\\site-packages (from dspy>=2.6.5->dspy-ai) (0.1.6)\n",
      "Requirement already satisfied: litellm>=1.60.3 in c:\\users\\swarnlata\\anaconda3\\lib\\site-packages (from dspy>=2.6.5->dspy-ai) (1.63.7)\n",
      "Requirement already satisfied: diskcache>=5.6.0 in c:\\users\\swarnlata\\anaconda3\\lib\\site-packages (from dspy>=2.6.5->dspy-ai) (5.6.3)\n",
      "Requirement already satisfied: json-repair>=0.30.0 in c:\\users\\swarnlata\\anaconda3\\lib\\site-packages (from dspy>=2.6.5->dspy-ai) (0.40.0)\n",
      "Requirement already satisfied: tenacity>=8.2.3 in c:\\users\\swarnlata\\anaconda3\\lib\\site-packages (from dspy>=2.6.5->dspy-ai) (9.1.2)\n",
      "Requirement already satisfied: anyio in c:\\users\\swarnlata\\anaconda3\\lib\\site-packages (from dspy>=2.6.5->dspy-ai) (4.2.0)\n",
      "Requirement already satisfied: asyncer==0.0.8 in c:\\users\\swarnlata\\anaconda3\\lib\\site-packages (from dspy>=2.6.5->dspy-ai) (0.0.8)\n",
      "Requirement already satisfied: cachetools>=5.5.0 in c:\\users\\swarnlata\\anaconda3\\lib\\site-packages (from dspy>=2.6.5->dspy-ai) (5.5.2)\n",
      "Requirement already satisfied: cloudpickle>=3.0.0 in c:\\users\\swarnlata\\anaconda3\\lib\\site-packages (from dspy>=2.6.5->dspy-ai) (3.1.1)\n",
      "Requirement already satisfied: rich>=13.7.1 in c:\\users\\swarnlata\\anaconda3\\lib\\site-packages (from dspy>=2.6.5->dspy-ai) (14.0.0)\n",
      "Requirement already satisfied: numpy>=1.26.0 in c:\\users\\swarnlata\\anaconda3\\lib\\site-packages (from dspy>=2.6.5->dspy-ai) (1.26.4)\n",
      "Requirement already satisfied: idna>=2.8 in c:\\users\\swarnlata\\anaconda3\\lib\\site-packages (from anyio->dspy>=2.6.5->dspy-ai) (3.4)\n",
      "Requirement already satisfied: sniffio>=1.1 in c:\\users\\swarnlata\\anaconda3\\lib\\site-packages (from anyio->dspy>=2.6.5->dspy-ai) (1.3.0)\n",
      "Requirement already satisfied: filelock in c:\\users\\swarnlata\\anaconda3\\lib\\site-packages (from datasets>=2.14.6->dspy>=2.6.5->dspy-ai) (3.13.1)\n",
      "Requirement already satisfied: pyarrow>=15.0.0 in c:\\users\\swarnlata\\anaconda3\\lib\\site-packages (from datasets>=2.14.6->dspy>=2.6.5->dspy-ai) (19.0.1)\n",
      "Requirement already satisfied: dill<0.3.9,>=0.3.0 in c:\\users\\swarnlata\\anaconda3\\lib\\site-packages (from datasets>=2.14.6->dspy>=2.6.5->dspy-ai) (0.3.8)\n",
      "Requirement already satisfied: xxhash in c:\\users\\swarnlata\\anaconda3\\lib\\site-packages (from datasets>=2.14.6->dspy>=2.6.5->dspy-ai) (3.5.0)\n",
      "Requirement already satisfied: multiprocess<0.70.17 in c:\\users\\swarnlata\\anaconda3\\lib\\site-packages (from datasets>=2.14.6->dspy>=2.6.5->dspy-ai) (0.70.16)\n",
      "Requirement already satisfied: fsspec<=2024.12.0,>=2023.1.0 in c:\\users\\swarnlata\\anaconda3\\lib\\site-packages (from fsspec[http]<=2024.12.0,>=2023.1.0->datasets>=2.14.6->dspy>=2.6.5->dspy-ai) (2023.10.0)\n",
      "Requirement already satisfied: aiohttp in c:\\users\\swarnlata\\anaconda3\\lib\\site-packages (from datasets>=2.14.6->dspy>=2.6.5->dspy-ai) (3.9.3)\n",
      "Requirement already satisfied: huggingface-hub>=0.24.0 in c:\\users\\swarnlata\\anaconda3\\lib\\site-packages (from datasets>=2.14.6->dspy>=2.6.5->dspy-ai) (0.30.1)\n",
      "Requirement already satisfied: packaging in c:\\users\\swarnlata\\anaconda3\\lib\\site-packages (from datasets>=2.14.6->dspy>=2.6.5->dspy-ai) (23.1)\n",
      "Requirement already satisfied: pyyaml>=5.1 in c:\\users\\swarnlata\\anaconda3\\lib\\site-packages (from datasets>=2.14.6->dspy>=2.6.5->dspy-ai) (6.0.1)\n",
      "Requirement already satisfied: click in c:\\users\\swarnlata\\anaconda3\\lib\\site-packages (from litellm>=1.60.3->dspy>=2.6.5->dspy-ai) (8.1.7)\n",
      "Requirement already satisfied: httpx>=0.23.0 in c:\\users\\swarnlata\\anaconda3\\lib\\site-packages (from litellm>=1.60.3->dspy>=2.6.5->dspy-ai) (0.28.1)\n",
      "Requirement already satisfied: importlib-metadata>=6.8.0 in c:\\users\\swarnlata\\anaconda3\\lib\\site-packages (from litellm>=1.60.3->dspy>=2.6.5->dspy-ai) (7.0.1)\n",
      "Requirement already satisfied: jinja2<4.0.0,>=3.1.2 in c:\\users\\swarnlata\\anaconda3\\lib\\site-packages (from litellm>=1.60.3->dspy>=2.6.5->dspy-ai) (3.1.3)\n",
      "Requirement already satisfied: jsonschema<5.0.0,>=4.22.0 in c:\\users\\swarnlata\\anaconda3\\lib\\site-packages (from litellm>=1.60.3->dspy>=2.6.5->dspy-ai) (4.23.0)\n",
      "Requirement already satisfied: python-dotenv>=0.2.0 in c:\\users\\swarnlata\\anaconda3\\lib\\site-packages (from litellm>=1.60.3->dspy>=2.6.5->dspy-ai) (0.21.0)\n",
      "Requirement already satisfied: tiktoken>=0.7.0 in c:\\users\\swarnlata\\anaconda3\\lib\\site-packages (from litellm>=1.60.3->dspy>=2.6.5->dspy-ai) (0.9.0)\n",
      "Requirement already satisfied: tokenizers in c:\\users\\swarnlata\\anaconda3\\lib\\site-packages (from litellm>=1.60.3->dspy>=2.6.5->dspy-ai) (0.15.2)\n",
      "Requirement already satisfied: distro<2,>=1.7.0 in c:\\users\\swarnlata\\anaconda3\\lib\\site-packages (from openai<=1.61.0,>=0.28.1->dspy>=2.6.5->dspy-ai) (1.8.0)\n",
      "Requirement already satisfied: jiter<1,>=0.4.0 in c:\\users\\swarnlata\\anaconda3\\lib\\site-packages (from openai<=1.61.0,>=0.28.1->dspy>=2.6.5->dspy-ai) (0.9.0)\n",
      "Requirement already satisfied: typing-extensions<5,>=4.11 in c:\\users\\swarnlata\\anaconda3\\lib\\site-packages (from openai<=1.61.0,>=0.28.1->dspy>=2.6.5->dspy-ai) (4.13.1)\n",
      "Requirement already satisfied: alembic>=1.5.0 in c:\\users\\swarnlata\\anaconda3\\lib\\site-packages (from optuna>=3.4.0->dspy>=2.6.5->dspy-ai) (1.15.2)\n",
      "Requirement already satisfied: colorlog in c:\\users\\swarnlata\\anaconda3\\lib\\site-packages (from optuna>=3.4.0->dspy>=2.6.5->dspy-ai) (6.9.0)\n",
      "Requirement already satisfied: sqlalchemy>=1.4.2 in c:\\users\\swarnlata\\anaconda3\\lib\\site-packages (from optuna>=3.4.0->dspy>=2.6.5->dspy-ai) (2.0.25)\n",
      "Requirement already satisfied: python-dateutil>=2.8.2 in c:\\users\\swarnlata\\anaconda3\\lib\\site-packages (from pandas>=2.1.1->dspy>=2.6.5->dspy-ai) (2.8.2)\n",
      "Requirement already satisfied: pytz>=2020.1 in c:\\users\\swarnlata\\anaconda3\\lib\\site-packages (from pandas>=2.1.1->dspy>=2.6.5->dspy-ai) (2023.3.post1)\n",
      "Requirement already satisfied: tzdata>=2022.1 in c:\\users\\swarnlata\\anaconda3\\lib\\site-packages (from pandas>=2.1.1->dspy>=2.6.5->dspy-ai) (2023.3)\n",
      "Requirement already satisfied: annotated-types>=0.6.0 in c:\\users\\swarnlata\\anaconda3\\lib\\site-packages (from pydantic>=2.0->dspy>=2.6.5->dspy-ai) (0.7.0)\n",
      "Requirement already satisfied: pydantic-core==2.33.1 in c:\\users\\swarnlata\\anaconda3\\lib\\site-packages (from pydantic>=2.0->dspy>=2.6.5->dspy-ai) (2.33.1)\n",
      "Requirement already satisfied: typing-inspection>=0.4.0 in c:\\users\\swarnlata\\anaconda3\\lib\\site-packages (from pydantic>=2.0->dspy>=2.6.5->dspy-ai) (0.4.0)\n",
      "Requirement already satisfied: charset-normalizer<4,>=2 in c:\\users\\swarnlata\\anaconda3\\lib\\site-packages (from requests>=2.31.0->dspy>=2.6.5->dspy-ai) (2.0.4)\n",
      "Requirement already satisfied: urllib3<3,>=1.21.1 in c:\\users\\swarnlata\\anaconda3\\lib\\site-packages (from requests>=2.31.0->dspy>=2.6.5->dspy-ai) (2.0.7)\n",
      "Requirement already satisfied: certifi>=2017.4.17 in c:\\users\\swarnlata\\anaconda3\\lib\\site-packages (from requests>=2.31.0->dspy>=2.6.5->dspy-ai) (2024.2.2)\n",
      "Requirement already satisfied: markdown-it-py>=2.2.0 in c:\\users\\swarnlata\\anaconda3\\lib\\site-packages (from rich>=13.7.1->dspy>=2.6.5->dspy-ai) (2.2.0)\n",
      "Requirement already satisfied: pygments<3.0.0,>=2.13.0 in c:\\users\\swarnlata\\anaconda3\\lib\\site-packages (from rich>=13.7.1->dspy>=2.6.5->dspy-ai) (2.15.1)\n",
      "Requirement already satisfied: colorama in c:\\users\\swarnlata\\anaconda3\\lib\\site-packages (from tqdm>=4.66.1->dspy>=2.6.5->dspy-ai) (0.4.6)\n",
      "Requirement already satisfied: Mako in c:\\users\\swarnlata\\anaconda3\\lib\\site-packages (from alembic>=1.5.0->optuna>=3.4.0->dspy>=2.6.5->dspy-ai) (1.3.9)\n",
      "Requirement already satisfied: aiosignal>=1.1.2 in c:\\users\\swarnlata\\anaconda3\\lib\\site-packages (from aiohttp->datasets>=2.14.6->dspy>=2.6.5->dspy-ai) (1.2.0)\n",
      "Requirement already satisfied: attrs>=17.3.0 in c:\\users\\swarnlata\\anaconda3\\lib\\site-packages (from aiohttp->datasets>=2.14.6->dspy>=2.6.5->dspy-ai) (23.1.0)\n",
      "Requirement already satisfied: frozenlist>=1.1.1 in c:\\users\\swarnlata\\anaconda3\\lib\\site-packages (from aiohttp->datasets>=2.14.6->dspy>=2.6.5->dspy-ai) (1.4.0)\n",
      "Requirement already satisfied: multidict<7.0,>=4.5 in c:\\users\\swarnlata\\anaconda3\\lib\\site-packages (from aiohttp->datasets>=2.14.6->dspy>=2.6.5->dspy-ai) (6.0.4)\n",
      "Requirement already satisfied: yarl<2.0,>=1.0 in c:\\users\\swarnlata\\anaconda3\\lib\\site-packages (from aiohttp->datasets>=2.14.6->dspy>=2.6.5->dspy-ai) (1.9.3)\n",
      "Requirement already satisfied: httpcore==1.* in c:\\users\\swarnlata\\anaconda3\\lib\\site-packages (from httpx>=0.23.0->litellm>=1.60.3->dspy>=2.6.5->dspy-ai) (1.0.7)\n",
      "Requirement already satisfied: h11<0.15,>=0.13 in c:\\users\\swarnlata\\anaconda3\\lib\\site-packages (from httpcore==1.*->httpx>=0.23.0->litellm>=1.60.3->dspy>=2.6.5->dspy-ai) (0.14.0)\n",
      "Requirement already satisfied: zipp>=0.5 in c:\\users\\swarnlata\\anaconda3\\lib\\site-packages (from importlib-metadata>=6.8.0->litellm>=1.60.3->dspy>=2.6.5->dspy-ai) (3.17.0)\n",
      "Requirement already satisfied: MarkupSafe>=2.0 in c:\\users\\swarnlata\\anaconda3\\lib\\site-packages (from jinja2<4.0.0,>=3.1.2->litellm>=1.60.3->dspy>=2.6.5->dspy-ai) (2.1.3)\n",
      "Requirement already satisfied: jsonschema-specifications>=2023.03.6 in c:\\users\\swarnlata\\anaconda3\\lib\\site-packages (from jsonschema<5.0.0,>=4.22.0->litellm>=1.60.3->dspy>=2.6.5->dspy-ai) (2023.7.1)\n",
      "Requirement already satisfied: referencing>=0.28.4 in c:\\users\\swarnlata\\anaconda3\\lib\\site-packages (from jsonschema<5.0.0,>=4.22.0->litellm>=1.60.3->dspy>=2.6.5->dspy-ai) (0.30.2)\n",
      "Requirement already satisfied: rpds-py>=0.7.1 in c:\\users\\swarnlata\\anaconda3\\lib\\site-packages (from jsonschema<5.0.0,>=4.22.0->litellm>=1.60.3->dspy>=2.6.5->dspy-ai) (0.10.6)\n",
      "Requirement already satisfied: mdurl~=0.1 in c:\\users\\swarnlata\\anaconda3\\lib\\site-packages (from markdown-it-py>=2.2.0->rich>=13.7.1->dspy>=2.6.5->dspy-ai) (0.1.0)\n",
      "Requirement already satisfied: six>=1.5 in c:\\users\\swarnlata\\anaconda3\\lib\\site-packages (from python-dateutil>=2.8.2->pandas>=2.1.1->dspy>=2.6.5->dspy-ai) (1.16.0)\n",
      "Requirement already satisfied: greenlet!=0.4.17 in c:\\users\\swarnlata\\anaconda3\\lib\\site-packages (from sqlalchemy>=1.4.2->optuna>=3.4.0->dspy>=2.6.5->dspy-ai) (3.0.1)\n",
      "Note: you may need to restart the kernel to use updated packages.\n"
     ]
    }
   ],
   "source": [
    "#pip install dspy-ai"
   ]
  },
  {
   "cell_type": "code",
   "execution_count": null,
   "id": "d55a16af-9ee1-447d-b4eb-49c1f8dbc2f7",
   "metadata": {},
   "outputs": [],
   "source": [
    "#pip install openai"
   ]
  },
  {
   "cell_type": "code",
   "execution_count": 1,
   "id": "ed473f95-a572-4aab-86d6-2e8e396ea2c0",
   "metadata": {},
   "outputs": [],
   "source": [
    "import dspy"
   ]
  },
  {
   "cell_type": "code",
   "execution_count": 2,
   "id": "4b1a2992-12ee-4e1d-9d04-1b281bcc6c6a",
   "metadata": {},
   "outputs": [],
   "source": [
    "#pip install --upgrade dspy"
   ]
  },
  {
   "cell_type": "code",
   "execution_count": 3,
   "id": "1264b4f3-1a75-446e-a800-4cf49ae01c4e",
   "metadata": {},
   "outputs": [
    {
     "name": "stdout",
     "output_type": "stream",
     "text": [
      "Name: dspyNote: you may need to restart the kernel to use updated packages.\n",
      "\n",
      "Version: 2.6.16\n",
      "Summary: DSPy\n",
      "Home-page: \n",
      "Author: \n",
      "Author-email: Omar Khattab <okhattab@stanford.edu>\n",
      "License: MIT License\n",
      "Location: C:\\Users\\Swarnlata\\anaconda3\\Lib\\site-packages\n",
      "Requires: anyio, asyncer, backoff, cachetools, cloudpickle, datasets, diskcache, joblib, json-repair, litellm, magicattr, numpy, openai, optuna, pandas, pydantic, regex, requests, rich, tenacity, tqdm, ujson\n",
      "Required-by: dspy-ai\n"
     ]
    }
   ],
   "source": [
    "pip show dspy\n"
   ]
  },
  {
   "cell_type": "code",
   "execution_count": 4,
   "id": "6cc8c048-67b5-4d0c-835a-318b2fc6b37c",
   "metadata": {},
   "outputs": [],
   "source": [
    "import os"
   ]
  },
  {
   "cell_type": "code",
   "execution_count": 5,
   "id": "1fc88404-ad31-4021-8920-b8e03df515ab",
   "metadata": {},
   "outputs": [],
   "source": [
    "import openai"
   ]
  },
  {
   "cell_type": "code",
   "execution_count": 6,
   "id": "6590c57c-708a-4469-adf3-eb7c0c12f96a",
   "metadata": {},
   "outputs": [
    {
     "name": "stdout",
     "output_type": "stream",
     "text": [
      "Name: openai\n",
      "Version: 1.61.0\n",
      "Summary: The official Python library for the openai API\n",
      "Home-page: \n",
      "Author: \n",
      "Author-email: OpenAI <support@openai.com>\n",
      "License: \n",
      "Location: C:\\Users\\Swarnlata\\anaconda3\\Lib\\site-packages\n",
      "Requires: anyio, distro, httpx, jiter, pydantic, sniffio, tqdm, typing-extensions\n",
      "Required-by: dspy, litellm\n",
      "Note: you may need to restart the kernel to use updated packages.\n"
     ]
    }
   ],
   "source": [
    "pip show openai"
   ]
  },
  {
   "cell_type": "code",
   "execution_count": 7,
   "id": "b5f7e422-83d3-46f1-a555-8f2b3c83d6d8",
   "metadata": {},
   "outputs": [],
   "source": [
    "openai.api_key=os.getenv(\"OPENAI_API_KEY\")"
   ]
  },
  {
   "cell_type": "code",
   "execution_count": 8,
   "id": "78e204bb-0f9a-4c2b-91fe-4e1b73212a24",
   "metadata": {},
   "outputs": [],
   "source": [
    "class ConvertDollarToRupee(dspy.Signature):\n",
    "   \"\"\"Convert Dollar to Rupee\"\"\"\n",
    "   dollar= dspy.InputField()\n",
    "   rupee= dspy.OutputField() "
   ]
  },
  {
   "cell_type": "code",
   "execution_count": 19,
   "id": "72052fb7-6695-45d6-a93e-0485bbd0b1a3",
   "metadata": {},
   "outputs": [],
   "source": [
    "turbo= dspy.BaseLM(model=\"gpt-3.5-turbo\",max_token=1000)"
   ]
  },
  {
   "cell_type": "code",
   "execution_count": 22,
   "id": "44ea21ab-ee7d-4625-b9ef-6e94b7526292",
   "metadata": {},
   "outputs": [],
   "source": [
    "dspy.settings.configure(lm=turbo)"
   ]
  },
  {
   "cell_type": "code",
   "execution_count": 29,
   "id": "c1b73ed2-c158-483d-a023-ddab65706d24",
   "metadata": {},
   "outputs": [],
   "source": [
    "lm = dspy.LM('openai/gpt-4o-mini')\n",
    "dspy.configure(lm=lm)"
   ]
  },
  {
   "cell_type": "code",
   "execution_count": 30,
   "id": "44674307-dc80-4f21-88d9-36030e4fd691",
   "metadata": {},
   "outputs": [
    {
     "name": "stdout",
     "output_type": "stream",
     "text": [
      "['Adapter', 'AvatarOptimizer', 'BaseLM', 'BaseModule', 'BestOfN', 'BetterTogether', 'BootstrapFewShot', 'BootstrapFewShotWithOptuna', 'BootstrapFewShotWithRandomSearch', 'BootstrapFinetune', 'BootstrapRS', 'COPRO', 'ChainOfThought', 'ChainOfThoughtWithHint', 'ChatAdapter', 'ColBERTv2', 'Completions', 'Embedder', 'Ensemble', 'Evaluate', 'Example', 'History', 'Image', 'InferRules', 'InputField', 'JSONAdapter', 'KNN', 'KNNFewShot', 'LM', 'LabeledFewShot', 'MIPROv2', 'Module', 'MultiChainComparison', 'OldField', 'OldInputField', 'OldOutputField', 'OutputField', 'Parallel', 'Predict', 'Prediction', 'Program', 'ProgramOfThought', 'Provider', 'PythonInterpreter', 'ReAct', 'Refine', 'Retrieve', 'SIMBA', 'Signature', 'SignatureMeta', 'Tool', 'TrainingJob', '__author__', '__author_email__', '__builtins__', '__cached__', '__description__', '__doc__', '__file__', '__loader__', '__metadata__', '__name__', '__package__', '__path__', '__spec__', '__url__', '__version__', 'adapters', 'assertions', 'asyncify', 'clients', 'configure', 'configure_dspy_loggers', 'context', 'disable_litellm_logging', 'disable_logging', 'dsp', 'dspy', 'enable_litellm_logging', 'enable_logging', 'ensure_signature', 'evaluate', 'infer_prefix', 'inspect_history', 'load', 'majority', 'make_signature', 'predict', 'primitives', 'propose', 'retrieve', 'retrievers', 'settings', 'signatures', 'streamify', 'teleprompt', 'track_usage', 'utils']\n"
     ]
    }
   ],
   "source": [
    "print(dir(dspy))"
   ]
  },
  {
   "cell_type": "code",
   "execution_count": 12,
   "id": "f74bc791-1029-40b9-9394-07fbe7940a06",
   "metadata": {},
   "outputs": [
    {
     "name": "stdout",
     "output_type": "stream",
     "text": [
      "no\n"
     ]
    }
   ],
   "source": [
    "if hasattr(dspy, 'OpenAI'):\n",
    "    print(\"yes\")\n",
    "else:\n",
    "    print(\"no\")"
   ]
  },
  {
   "cell_type": "code",
   "execution_count": 14,
   "id": "a3fe8dd9-3682-45de-8d49-d7c1b6500559",
   "metadata": {},
   "outputs": [],
   "source": [
    "from openai import OpenAI"
   ]
  },
  {
   "cell_type": "code",
   "execution_count": 32,
   "id": "4bddc8f7-72de-4323-8c4b-088e13af8c26",
   "metadata": {},
   "outputs": [
    {
     "data": {
      "text/plain": [
       "['This is a test! How can I assist you further?']"
      ]
     },
     "execution_count": 32,
     "metadata": {},
     "output_type": "execute_result"
    }
   ],
   "source": [
    "lm(\"Say this is a test!\", temperature=0.7)  # => ['This is a test!']\n",
    "lm(messages=[{\"role\": \"user\", \"content\": \"Say this is a test!\"}])  # => ['This is a test!']"
   ]
  },
  {
   "cell_type": "code",
   "execution_count": 31,
   "id": "afd713d2-8d21-4ce7-a79c-d6c2f46c0778",
   "metadata": {},
   "outputs": [
    {
     "name": "stdout",
     "output_type": "stream",
     "text": [
      "The number of floors in the castle David Gregory inherited is not specified and cannot be determined without additional information.\n"
     ]
    }
   ],
   "source": [
    "# Define a module (ChainOfThought) and assign it a signature (return an answer, given a question).\n",
    "qa = dspy.ChainOfThought('question -> answer')\n",
    "\n",
    "# Run with the default LM configured with `dspy.configure` above.\n",
    "response = qa(question=\"How many floors are in the castle David Gregory inherited?\")\n",
    "print(response.answer)"
   ]
  },
  {
   "cell_type": "code",
   "execution_count": null,
   "id": "cafcc556-25e4-4e94-9a8b-2d201f50c216",
   "metadata": {},
   "outputs": [],
   "source": []
  }
 ],
 "metadata": {
  "kernelspec": {
   "display_name": "Python 3 (ipykernel)",
   "language": "python",
   "name": "python3"
  },
  "language_info": {
   "codemirror_mode": {
    "name": "ipython",
    "version": 3
   },
   "file_extension": ".py",
   "mimetype": "text/x-python",
   "name": "python",
   "nbconvert_exporter": "python",
   "pygments_lexer": "ipython3",
   "version": "3.11.7"
  }
 },
 "nbformat": 4,
 "nbformat_minor": 5
}
